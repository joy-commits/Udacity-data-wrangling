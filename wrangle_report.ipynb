{
 "cells": [
  {
   "cell_type": "markdown",
   "metadata": {},
   "source": [
    "## Reporting: wrangle_report"
   ]
  },
  {
   "cell_type": "markdown",
   "metadata": {},
   "source": [
    "In this project, data wrangling was performed on the tweets from a Twitter handle \"WeRateDogs\". \n",
    "Data wrangling is a very key part of the data analysis process, and it is said to take the most time among all the other phases/stages. Data wrangling entails gathering the data, assessing the data quality and structure, and cleaning it (before the other processes of analyzing the data, visualizing the data, and building predictive models using machine learning)\n",
    "Three datasets were used for the data wrangling project. These datasets were gotten from three various sources.\n",
    "\n",
    "The gathering phase of data wrangling was done from three different sources. The first was downloaded. For the second, the \"requests\" library was used to download it. The third was additional dataset extracted from Twitter using the Twitter API.\n",
    "\n",
    "Thereafter, the data was assessed. Assessment was done both visually and programmatically to detect tidiness issues and quality issues. Eight (8) quality issues were detected and two (2) tidiness issues were detected too. The quality issues detected were issues with data types/format, missing data and inconsistency. The tidiness issues detected were issues with unmerged columns (that is, a single type of observation was spread across various columns) and irrelevant columns.\n",
    "\n",
    "Afterwards, the data was cleaned. The data was quite messy and neededd to be well-presented. For example, the \"source\" column in the first data contained some HTML codes, which needed to be scraped, so that texts could be extracted. Scraping was done using the BeautifulSoup python package. After cleaning the data, it was observed that there was four tweet sources.\n",
    "Only original tweets were needed, not retweets or replies, and therefore, the retweets and replies columns in the first data were dropped.\n",
    "The dog stages (pupper, puppo, doggo and floofer) were merged into a single column. The timestamp column in the first data was in object format, rather than datetime. The tweet_id columns in the first and second data were in int64 format rather than the object format. \n",
    "The \"name\" column in the first data had some of its values in a lowercase format, rather than being capitalized.\n",
    "\n",
    "The three datasets were then merged to a \"master\" dataset, saved to a CSV file named \"twitter_archive_master.csv\"."
   ]
  }
 ],
 "metadata": {
  "kernelspec": {
   "display_name": "Python 3 (ipykernel)",
   "language": "python",
   "name": "python3"
  },
  "language_info": {
   "codemirror_mode": {
    "name": "ipython",
    "version": 3
   },
   "file_extension": ".py",
   "mimetype": "text/x-python",
   "name": "python",
   "nbconvert_exporter": "python",
   "pygments_lexer": "ipython3",
   "version": "3.7.11"
  }
 },
 "nbformat": 4,
 "nbformat_minor": 2
}
